{
 "cells": [
  {
   "cell_type": "code",
   "execution_count": 121,
   "metadata": {},
   "outputs": [],
   "source": [
    "import pandas as pd\n",
    "import numpy as np\n",
    "import matplotlib.pyplot as plt\n",
    "import seaborn as sns\n",
    "import sqlite3\n",
    "conn = sqlite3.connect('im.db')"
   ]
  },
  {
   "cell_type": "code",
   "execution_count": 122,
   "metadata": {},
   "outputs": [],
   "source": [
    "\n",
    "directorsName = pd.read_sql(\"\"\"\n",
    "      SELECT DISTINCT primary_name, COUNT(primary_name), AVG(averagerating)\n",
    "      FROM directors\n",
    "      JOIN persons ON directors.person_id = persons.person_id\n",
    "      JOIN movie_basics ON movie_basics.movie_id = directors.movie_id\n",
    "      JOIN movie_ratings ON movie_ratings.movie_id = movie_basics.movie_id\n",
    "      GROUP BY primary_name\n",
    "      HAVING AVG(averagerating) > 8 AND COUNT(primary_name) > 15\n",
    "      ORDER BY AVG(averagerating) DESC;     \n",
    "              \"\"\",conn)"
   ]
  },
  {
   "cell_type": "code",
   "execution_count": 123,
   "metadata": {},
   "outputs": [
    {
     "data": {
      "text/html": [
       "<div>\n",
       "<style scoped>\n",
       "    .dataframe tbody tr th:only-of-type {\n",
       "        vertical-align: middle;\n",
       "    }\n",
       "\n",
       "    .dataframe tbody tr th {\n",
       "        vertical-align: top;\n",
       "    }\n",
       "\n",
       "    .dataframe thead th {\n",
       "        text-align: right;\n",
       "    }\n",
       "</style>\n",
       "<table border=\"1\" class=\"dataframe\">\n",
       "  <thead>\n",
       "    <tr style=\"text-align: right;\">\n",
       "      <th></th>\n",
       "      <th>primary_name</th>\n",
       "      <th>COUNT(primary_name)</th>\n",
       "      <th>AVG(averagerating)</th>\n",
       "    </tr>\n",
       "  </thead>\n",
       "  <tbody>\n",
       "    <tr>\n",
       "      <th>0</th>\n",
       "      <td>Sylvia Broeckx</td>\n",
       "      <td>28</td>\n",
       "      <td>9.000000</td>\n",
       "    </tr>\n",
       "    <tr>\n",
       "      <th>1</th>\n",
       "      <td>Lisa Gossels</td>\n",
       "      <td>17</td>\n",
       "      <td>9.000000</td>\n",
       "    </tr>\n",
       "    <tr>\n",
       "      <th>2</th>\n",
       "      <td>Erin Korbylo</td>\n",
       "      <td>28</td>\n",
       "      <td>9.000000</td>\n",
       "    </tr>\n",
       "    <tr>\n",
       "      <th>3</th>\n",
       "      <td>Dennis Korbylo</td>\n",
       "      <td>28</td>\n",
       "      <td>9.000000</td>\n",
       "    </tr>\n",
       "    <tr>\n",
       "      <th>4</th>\n",
       "      <td>Anthony Russo</td>\n",
       "      <td>30</td>\n",
       "      <td>8.246667</td>\n",
       "    </tr>\n",
       "    <tr>\n",
       "      <th>5</th>\n",
       "      <td>Joe Russo</td>\n",
       "      <td>31</td>\n",
       "      <td>8.180645</td>\n",
       "    </tr>\n",
       "    <tr>\n",
       "      <th>6</th>\n",
       "      <td>Pauli Janhunen Calderón</td>\n",
       "      <td>23</td>\n",
       "      <td>8.152174</td>\n",
       "    </tr>\n",
       "    <tr>\n",
       "      <th>7</th>\n",
       "      <td>Jaco Van Dormael</td>\n",
       "      <td>16</td>\n",
       "      <td>8.106250</td>\n",
       "    </tr>\n",
       "  </tbody>\n",
       "</table>\n",
       "</div>"
      ],
      "text/plain": [
       "              primary_name  COUNT(primary_name)  AVG(averagerating)\n",
       "0           Sylvia Broeckx                   28            9.000000\n",
       "1             Lisa Gossels                   17            9.000000\n",
       "2             Erin Korbylo                   28            9.000000\n",
       "3           Dennis Korbylo                   28            9.000000\n",
       "4            Anthony Russo                   30            8.246667\n",
       "5                Joe Russo                   31            8.180645\n",
       "6  Pauli Janhunen Calderón                   23            8.152174\n",
       "7         Jaco Van Dormael                   16            8.106250"
      ]
     },
     "execution_count": 123,
     "metadata": {},
     "output_type": "execute_result"
    }
   ],
   "source": [
    "Final_df = pd.DataFrame(directorsName)\n",
    "Final_df"
   ]
  },
  {
   "cell_type": "code",
   "execution_count": 133,
   "metadata": {},
   "outputs": [
    {
     "data": {
      "image/png": "[encoded data removed]",
      "text/plain": [
       "<Figure size 936x504 with 2 Axes>"
      ]
     },
     "metadata": {
      "needs_background": "light"
     },
     "output_type": "display_data"
    }
   ],
   "source": [
    "# This code creates a figure with a size of 13 inches by 7 inches using the figsize parameter in plt.figure().\n",
    "#The ax = fig.add_subplot(111) line creates a single subplot (axes) in the figure with an index of 111\n",
    "\n",
    "fig = plt.figure(figsize=(13,7))\n",
    "ax = fig.add_subplot(111)\n",
    "ax2 = ax.twinx()\n",
    "width = .3\n",
    "\n",
    "plt.xticks(rotation=75, fontsize=10, fontweight= 'bold')\n",
    "plt.title('BEST RATED/PERFOMING CAST', fontsize=16, fontweight='bold')\n",
    "ax.set_ylabel('Average_Rating', fontsize=14, fontweight='bold')\n",
    "ax2.set_ylabel('No_of_Movies_Made', fontsize=14, fontweight='bold')\n",
    "\n",
    "\n",
    "gr['AVG(averagerating)'].plot(kind='bar',color='maroon',ax=ax,width=width, position=0)\n",
    "gr['COUNT(primary_name)'].plot(kind='bar',color='blue', ax=ax2,width = width, position=1)\n",
    "\n",
    "\n",
    "# Add the legend\n",
    "plt.legend(handles=[maroon_patch, blue_patch])\n",
    "\n",
    "plt.show()\n",
    "\n",
    "\n"
   ]
  },
  {
   "cell_type": "code",
   "execution_count": null,
   "metadata": {},
   "outputs": [],
   "source": []
  }
 ],
 "metadata": {
  "kernelspec": {
   "display_name": "learn-env",
   "language": "python",
   "name": "python3"
  },
  "language_info": {
   "codemirror_mode": {
    "name": "ipython",
    "version": 3
   },
   "file_extension": ".py",
   "mimetype": "text/x-python",
   "name": "python",
   "nbconvert_exporter": "python",
   "pygments_lexer": "ipython3",
   "version": "3.8.5"
  },
  "orig_nbformat": 4
 },
 "nbformat": 4,
 "nbformat_minor": 2
}
